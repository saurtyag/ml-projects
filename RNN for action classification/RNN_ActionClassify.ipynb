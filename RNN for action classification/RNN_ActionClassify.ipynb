{
 "cells": [
  {
   "cell_type": "code",
   "execution_count": 1,
   "metadata": {
    "colab": {
     "base_uri": "https://localhost:8080/",
     "height": 129
    },
    "colab_type": "code",
    "id": "GoMLAQzgbINt",
    "outputId": "346dd971-1a2f-42b2-806f-47367f8c0156"
   },
   "outputs": [
    {
     "name": "stdout",
     "output_type": "stream",
     "text": [
      "Go to this URL in a browser: https://accounts.google.com/o/oauth2/auth?client_id=947318989803-6bn6qk8qdgf4n4g3pfee6491hc0brc4i.apps.googleusercontent.com&redirect_uri=urn%3aietf%3awg%3aoauth%3a2.0%3aoob&response_type=code&scope=email%20https%3a%2f%2fwww.googleapis.com%2fauth%2fdocs.test%20https%3a%2f%2fwww.googleapis.com%2fauth%2fdrive%20https%3a%2f%2fwww.googleapis.com%2fauth%2fdrive.photos.readonly%20https%3a%2f%2fwww.googleapis.com%2fauth%2fpeopleapi.readonly\n",
      "\n",
      "Enter your authorization code:\n",
      "··········\n",
      "Mounted at /content/drive\n"
     ]
    }
   ],
   "source": [
    "from google.colab import drive\n",
    "drive.mount('/content/drive')"
   ]
  },
  {
   "cell_type": "markdown",
   "metadata": {
    "colab_type": "text",
    "id": "g9gL6InhzGno"
   },
   "source": [
    "# Sequence Classification using Recurrent Neural Networks(RNN)\n",
    "In this homework, you will learn how to train a recurrent neural network for human action classification. RNN is designed handle sequential data. The network can incorporate both past history and current input. [This](http://colah.github.io/posts/2015-08-Understanding-LSTMs/) is a very good tutorial. You should read it before you start."
   ]
  },
  {
   "cell_type": "markdown",
   "metadata": {
    "colab_type": "text",
    "id": "XFlewEI6zGnt"
   },
   "source": [
    "## Setup\n",
    "Please make sure you have h5py and torchnet installed\n",
    "> pip install h5py\n",
    "\n",
    "> pip install git+https://github.com/pytorch/tnt.git@master\n"
   ]
  },
  {
   "cell_type": "code",
   "execution_count": 2,
   "metadata": {
    "colab": {
     "base_uri": "https://localhost:8080/",
     "height": 804
    },
    "colab_type": "code",
    "id": "xyGgMg-NbzE_",
    "outputId": "0459a193-5030-4a25-d79e-e26daebd4e37"
   },
   "outputs": [
    {
     "name": "stdout",
     "output_type": "stream",
     "text": [
      "Collecting torchnet\n",
      "  Downloading https://files.pythonhosted.org/packages/b7/b2/d7f70a85d3f6b0365517782632f150e3bbc2fb8e998cd69e27deba599aae/torchnet-0.0.4.tar.gz\n",
      "Requirement already satisfied: torch in /usr/local/lib/python2.7/dist-packages (from torchnet) (1.3.1+cu100)\n",
      "Requirement already satisfied: six in /usr/local/lib/python2.7/dist-packages (from torchnet) (1.12.0)\n",
      "Collecting visdom\n",
      "\u001b[?25l  Downloading https://files.pythonhosted.org/packages/c9/75/e078f5a2e1df7e0d3044749089fc2823e62d029cc027ed8ae5d71fafcbdc/visdom-0.1.8.9.tar.gz (676kB)\n",
      "\u001b[K     |████████████████████████████████| 686kB 11.3MB/s \n",
      "\u001b[?25hRequirement already satisfied: future in /usr/local/lib/python2.7/dist-packages (from torch->torchnet) (0.16.0)\n",
      "Requirement already satisfied: numpy in /usr/local/lib/python2.7/dist-packages (from torch->torchnet) (1.16.4)\n",
      "Requirement already satisfied: scipy in /usr/local/lib/python2.7/dist-packages (from visdom->torchnet) (1.2.2)\n",
      "Requirement already satisfied: requests in /usr/local/lib/python2.7/dist-packages (from visdom->torchnet) (2.21.0)\n",
      "Requirement already satisfied: tornado in /usr/local/lib/python2.7/dist-packages (from visdom->torchnet) (4.5.3)\n",
      "Requirement already satisfied: pyzmq in /usr/local/lib/python2.7/dist-packages (from visdom->torchnet) (17.0.0)\n",
      "Collecting jsonpatch\n",
      "  Downloading https://files.pythonhosted.org/packages/86/7e/035d19a73306278673039f0805b863be8798057cc1b4008b9c8c7d1d32a3/jsonpatch-1.24-py2.py3-none-any.whl\n",
      "Collecting torchfile\n",
      "  Downloading https://files.pythonhosted.org/packages/91/af/5b305f86f2d218091af657ddb53f984ecbd9518ca9fe8ef4103a007252c9/torchfile-0.1.0.tar.gz\n",
      "Collecting websocket-client\n",
      "\u001b[?25l  Downloading https://files.pythonhosted.org/packages/29/19/44753eab1fdb50770ac69605527e8859468f3c0fd7dc5a76dd9c4dbd7906/websocket_client-0.56.0-py2.py3-none-any.whl (200kB)\n",
      "\u001b[K     |████████████████████████████████| 204kB 53.4MB/s \n",
      "\u001b[?25hRequirement already satisfied: pillow in /usr/local/lib/python2.7/dist-packages (from visdom->torchnet) (4.3.0)\n",
      "Requirement already satisfied: urllib3<1.25,>=1.21.1 in /usr/local/lib/python2.7/dist-packages (from requests->visdom->torchnet) (1.24.3)\n",
      "Requirement already satisfied: certifi>=2017.4.17 in /usr/local/lib/python2.7/dist-packages (from requests->visdom->torchnet) (2019.6.16)\n",
      "Requirement already satisfied: chardet<3.1.0,>=3.0.2 in /usr/local/lib/python2.7/dist-packages (from requests->visdom->torchnet) (3.0.4)\n",
      "Requirement already satisfied: idna<2.9,>=2.5 in /usr/local/lib/python2.7/dist-packages (from requests->visdom->torchnet) (2.8)\n",
      "Requirement already satisfied: singledispatch in /usr/local/lib/python2.7/dist-packages (from tornado->visdom->torchnet) (3.4.0.3)\n",
      "Requirement already satisfied: backports-abc>=0.4 in /usr/local/lib/python2.7/dist-packages (from tornado->visdom->torchnet) (0.5)\n",
      "Collecting jsonpointer>=1.9\n",
      "  Downloading https://files.pythonhosted.org/packages/18/b0/a80d29577c08eea401659254dfaed87f1af45272899e1812d7e01b679bc5/jsonpointer-2.0-py2.py3-none-any.whl\n",
      "Requirement already satisfied: olefile in /usr/local/lib/python2.7/dist-packages (from pillow->visdom->torchnet) (0.46)\n",
      "Building wheels for collected packages: torchnet, visdom, torchfile\n",
      "  Building wheel for torchnet (setup.py) ... \u001b[?25l\u001b[?25hdone\n",
      "  Created wheel for torchnet: filename=torchnet-0.0.4-cp27-none-any.whl size=29743 sha256=e105729c346badcea88d15a6ed71f4fa8a4830792d724fea0130ecb8f5f3ba31\n",
      "  Stored in directory: /root/.cache/pip/wheels/e1/03/fb/1c212c2f20905cdf97fe39022946cf16b8e66ed754a6663400\n",
      "  Building wheel for visdom (setup.py) ... \u001b[?25l\u001b[?25hdone\n",
      "  Created wheel for visdom: filename=visdom-0.1.8.9-cp27-none-any.whl size=655250 sha256=0403a3eb2018e68ac7deee1d1d8941e212dfccc5fa97ba0b08d848fe8f5a3258\n",
      "  Stored in directory: /root/.cache/pip/wheels/70/19/a7/6d589ed967f4dfefd33bc166d081257bd4ed0cb618dccfd62a\n",
      "  Building wheel for torchfile (setup.py) ... \u001b[?25l\u001b[?25hdone\n",
      "  Created wheel for torchfile: filename=torchfile-0.1.0-cp27-none-any.whl size=5713 sha256=3e66c9dee92fe67ecbba04fb7db202ebb41361de8b2386e41b194b99e876cf1e\n",
      "  Stored in directory: /root/.cache/pip/wheels/b1/c3/d6/9a1cc8f3a99a0fc1124cae20153f36af59a6e683daca0a0814\n",
      "Successfully built torchnet visdom torchfile\n",
      "Installing collected packages: jsonpointer, jsonpatch, torchfile, websocket-client, visdom, torchnet\n",
      "Successfully installed jsonpatch-1.24 jsonpointer-2.0 torchfile-0.1.0 torchnet-0.0.4 visdom-0.1.8.9 websocket-client-0.56.0\n"
     ]
    }
   ],
   "source": [
    "!pip install torchnet"
   ]
  },
  {
   "cell_type": "code",
   "execution_count": 3,
   "metadata": {
    "colab": {
     "base_uri": "https://localhost:8080/",
     "height": 36
    },
    "colab_type": "code",
    "id": "xzmKOyGAzGnw",
    "outputId": "25ca5c36-e67c-4c9e-e564-cbe5d5850f37"
   },
   "outputs": [
    {
     "name": "stdout",
     "output_type": "stream",
     "text": [
      "use cuda: False\n"
     ]
    }
   ],
   "source": [
    "import os\n",
    "import numpy as np\n",
    "import h5py\n",
    "\n",
    "import torch\n",
    "import torch.nn as nn\n",
    "from torch.autograd import Variable\n",
    "import torch.utils.data as DD\n",
    "import torchnet as tnt\n",
    "\n",
    "use_cuda = False\n",
    "print('use cuda: %s'%(use_cuda))\n",
    "FloatTensor = torch.cuda.FloatTensor if use_cuda else torch.FloatTensor\n",
    "LongTensor = torch.cuda.LongTensor if use_cuda else torch.LongTensor\n",
    "ByteTensor = torch.cuda.ByteTensor if use_cuda else torch.ByteTensor"
   ]
  },
  {
   "cell_type": "markdown",
   "metadata": {
    "colab_type": "text",
    "id": "gMuQMMsCzGn_"
   },
   "source": [
    "## Dataset\n",
    "The data we are using is skeleton data, which indicates the 3D locations of body joints. In total, there are 25 body joints. It is collected by Kinect v2. To make it easier, each sequence have same number of frames. You need to classify 10 different actions. There are 2000 training sequences, 400 validation sequences, and 500 test sequences. Each sequence has 15 frames, each frame is a 75-dimension vector (3*25). \n",
    "\n",
    "For your convenience, we provide the dataloader for you.\n"
   ]
  },
  {
   "cell_type": "code",
   "execution_count": 0,
   "metadata": {
    "colab": {},
    "colab_type": "code",
    "id": "EXO8pvo2zGoC"
   },
   "outputs": [],
   "source": [
    "class Dataset(DD.Dataset):\n",
    "    # subset can be: 'train', 'val', 'test'\n",
    "    def __init__(self, data_path, subset='train'):\n",
    "        super(Dataset, self).__init__()\n",
    "        self.data_path = os.path.join(data_path, '%s_data.h5'%subset)\n",
    "        self.subset = subset\n",
    "\n",
    "        with h5py.File(self.data_path) as f:\n",
    "            self.data = np.array(f['data'])\n",
    "\n",
    "        if subset != 'test':\n",
    "            self.label_path = os.path.join(data_path, '%s_label.h5'%subset)\n",
    "            with h5py.File(self.label_path) as f:\n",
    "                self.label = np.array(f['label'])\n",
    "\n",
    "        self.num_sequences = self.data.shape[0]\n",
    "        self.seq_len = self.data.shape[1]\n",
    "        self.n_dim = self.data.shape[2]\n",
    "\n",
    "    def __getitem__(self, index):\n",
    "        seq = self.data[index]\n",
    "        if self.subset != 'test':\n",
    "            label = int(self.label[index])\n",
    "            sample = {'seq': seq, 'label': label}\n",
    "        else:\n",
    "            sample = {'seq': seq}\n",
    "        return sample\n",
    "\n",
    "    def __len__(self):\n",
    "        return self.num_sequences\n",
    "\n",
    "trSet = Dataset('/content/drive/My Drive/HW6ML/ques3_data/', subset='train')\n",
    "valSet = Dataset('/content/drive/My Drive/HW6ML/ques3_data/', subset='val')\n",
    "tstSet = Dataset('/content/drive/My Drive/HW6ML/ques3_data/', subset='test')\n",
    "\n",
    "batch_size = 100\n",
    "trLD = DD.DataLoader(trSet, batch_size=batch_size,\n",
    "       sampler=DD.sampler.RandomSampler(trSet),\n",
    "       num_workers=2, pin_memory=False)\n",
    "valLD = DD.DataLoader(valSet, batch_size=batch_size,\n",
    "       sampler=DD.sampler.SequentialSampler(valSet),\n",
    "       num_workers=1, pin_memory=False)\n",
    "tstLD = DD.DataLoader(tstSet, batch_size=batch_size,\n",
    "       sampler=DD.sampler.SequentialSampler(tstSet),\n",
    "       num_workers=1, pin_memory=False)\n",
    "\n",
    "input_dim = trSet.n_dim\n",
    "num_class = 10"
   ]
  },
  {
   "cell_type": "markdown",
   "metadata": {
    "colab_type": "text",
    "id": "WYZs2LMkzGoJ"
   },
   "source": [
    "## Model\n",
    "Pytorch has implemented different types of recurrent layers for you. For this homework, you can use any type of RNNs as you want:\n",
    "> torch.nn.RNN()\n",
    "\n",
    "> torch.nn.LSTM()\n",
    "\n",
    "> torch.nn.GRU()\n",
    "\n",
    "You can check details for different types of recurrent layers here: [RNN](http://pytorch.org/docs/master/nn.html#torch.nn.RNN), [LSTM]( http://pytorch.org/docs/master/nn.html#torch.nn.LSTM), [GRU](http://pytorch.org/docs/master/nn.html#torch.nn.GRU)\n",
    "\n",
    "\n",
    "### Implement a specific model\n",
    "In this section, you need to implement a model for sequence classification. The model has following layers:\n",
    "* A linear layer that can map features of 75-dimension to 100-dimension.\n",
    "* 1 Layer LSTM layer with hidden size of 100\n",
    "* A linear layer that goes from 100 to num_class (10). \n",
    "\n",
    "An LSTM layer takes an input of size of (batch_size, seq_len, fea_dim) and outputs a variable of shape (batch_size, seq_len, hidden_size). In this homework, the classification score for a sequence is the classification score for the last step of rnn_outputs.\n",
    "\n"
   ]
  },
  {
   "cell_type": "code",
   "execution_count": 0,
   "metadata": {
    "colab": {},
    "colab_type": "code",
    "id": "InIGzftG4A4H"
   },
   "outputs": [],
   "source": [
    "global loss_training, loss_validation, accuracy_training, accuracy_validation\n",
    "loss_training = [] \n",
    "loss_validation=[] \n",
    "accuracy_training=[] \n",
    "accuracy_validation = [] "
   ]
  },
  {
   "cell_type": "code",
   "execution_count": 0,
   "metadata": {
    "colab": {},
    "colab_type": "code",
    "id": "p7fj2fjTzGoL"
   },
   "outputs": [],
   "source": [
    "# sequence classification model\n",
    "class SequenceClassify(nn.Module):\n",
    "    def __init__(self):\n",
    "        super(SequenceClassify, self).__init__()\n",
    "        \n",
    "        ############## 1st To Do (10 points) ##############\n",
    "        ###################################################\n",
    "        self.project_layer = nn.Linear(75, 100)\n",
    "        self.recurrent_layer = nn.LSTM(100, 100, 2)\n",
    "        self.classify_layer = nn.Linear(100, num_class)\n",
    "        ###################################################\n",
    "    \n",
    "    # the size of input is [batch_size, seq_len(15), input_dim(75)]\n",
    "    # the size of logits is [batch_size, num_class]\n",
    "    def forward(self, input, h_t_1=None, c_t_1=None):\n",
    "        # the size of rnn_outputs is [batch_size, seq_len, rnn_size]\n",
    "        rnn_outputs, (hn, cn) = self.recurrent_layer(self.project_layer(input))\n",
    "        # classify the last step of rnn_outpus\n",
    "        # the size of logits is [batch_size, num_class]\n",
    "        logits = self.classify_layer(rnn_outputs[:,-1])\n",
    "        return logits\n",
    "\n",
    "model = SequenceClassify()"
   ]
  },
  {
   "cell_type": "markdown",
   "metadata": {
    "colab_type": "text",
    "id": "rQXf8dINzGoT"
   },
   "source": [
    "## Train the model\n",
    "After you have the dataloader and model, you can start training the model. Define a SGD optimizer with learning rate of 1e-3, and a cross-entropy loss function:"
   ]
  },
  {
   "cell_type": "code",
   "execution_count": 0,
   "metadata": {
    "colab": {},
    "colab_type": "code",
    "id": "zo8WUdiIzGoU"
   },
   "outputs": [],
   "source": [
    "################ 2nd To Do  (5 points)##################\n",
    "optimizer = torch.optim.SGD(model.parameters(), lr = 1e-4)\n",
    "criterion = nn.CrossEntropyLoss()"
   ]
  },
  {
   "cell_type": "code",
   "execution_count": 8,
   "metadata": {
    "colab": {
     "base_uri": "https://localhost:8080/",
     "height": 54
    },
    "colab_type": "code",
    "id": "nbus_qJIzGoZ",
    "outputId": "2d23f1cd-9acc-4fb1-f1fb-8586b3ced7c5"
   },
   "outputs": [
    {
     "name": "stdout",
     "output_type": "stream",
     "text": [
      "train Epoch: 0  , Loss: 2.3043,  Accuracy: 9.80\n",
      "val Epoch: 0  , Loss: 2.3051,  Accuracy: 10.00\n"
     ]
    }
   ],
   "source": [
    "# run the model for one epoch\n",
    "# can be used for both training or validation model\n",
    "def run_epoch(data_loader, model, criterion, epoch, is_training, optimizer=None):\n",
    "    if is_training:\n",
    "        model.train()\n",
    "        logger_prefix = 'train'\n",
    "    else:\n",
    "        model.eval()\n",
    "        logger_prefix = 'val'\n",
    "\n",
    "    confusion_matrix = tnt.meter.ConfusionMeter(num_class)\n",
    "    acc = tnt.meter.ClassErrorMeter(accuracy=True)\n",
    "    meter_loss = tnt.meter.AverageValueMeter()\n",
    "\n",
    "    for batch_idx, sample in enumerate(data_loader):\n",
    "        sequence = sample['seq']\n",
    "        label = sample['label']\n",
    "        input_sequence_var = Variable(sequence).type(FloatTensor)\n",
    "        input_label_var = Variable(label).type(LongTensor)\n",
    "\n",
    "        # compute output\n",
    "        # output_logits: [batch_size, num_class]\n",
    "        output_logits = model(input_sequence_var)\n",
    "        loss = criterion(output_logits, input_label_var)\n",
    "\n",
    "        if is_training:\n",
    "            optimizer.zero_grad()\n",
    "            loss.backward()\n",
    "            optimizer.step()\n",
    "\n",
    "        meter_loss.add(loss.data)\n",
    "        acc.add(output_logits.data, input_label_var.data)\n",
    "        confusion_matrix.add(output_logits.data, input_label_var.data)\n",
    "    global max_accu\n",
    "    global loss_training\n",
    "    global accuracy_training\n",
    "    global loss_validation\n",
    "    global accuracy_validation\n",
    "\n",
    "    print('%s Epoch: %d  , Loss: %.4f,  Accuracy: %.2f'%(logger_prefix, epoch, meter_loss.value()[0], acc.value()[0]))\n",
    "    if logger_prefix == 'train':\n",
    "        loss_training.append(meter_loss.value()[0])\n",
    "        accuracy_training.append(acc.value()[0])\n",
    "    else:\n",
    "        loss_validation.append(meter_loss.value()[0])\n",
    "        accuracy_validation.append(acc.value()[0])\n",
    "    return acc.value()[0]\n",
    "\n",
    "num_epochs = 1\n",
    "evaluate_every_epoch = 5\n",
    "train_loss = np.zeros(num_epochs)\n",
    "val_loss = np.zeros(num_epochs/evaluate_every_epoch)\n",
    "train_accuracy = np.zeros(num_epochs)\n",
    "val_accuracy = np.zeros(num_epochs/evaluate_every_epoch)\n",
    "for e in range(num_epochs):\n",
    "     run_epoch(trLD, model, criterion, e, True, optimizer)\n",
    "     if e % evaluate_every_epoch == 0:\n",
    "       run_epoch(valLD, model, criterion, e, False, None)   "
   ]
  },
  {
   "cell_type": "code",
   "execution_count": 0,
   "metadata": {
    "colab": {},
    "colab_type": "code",
    "id": "a339XI-x1YN0"
   },
   "outputs": [],
   "source": [
    "# 2nd attempt at creating model\n",
    "class SequenceClassify(nn.Module):\n",
    "    def __init__(self):\n",
    "        super(SequenceClassify, self).__init__()\n",
    "        \n",
    "        ############## 1st To Do (10 points) ##############\n",
    "        ###################################################\n",
    "        self.project_layer = nn.Linear(75, 100)\n",
    "        #self.recurrent_layer = nn.LSTM(100, 200, 2, bidirectional=True) \n",
    "        self.recurrent_layer = nn.LSTM(100, 100, 2, bidirectional=True) #79% @ Epoch 30\n",
    "        #self.classify_layer = nn.Linear(400, num_class)\n",
    "        self.classify_layer = nn.Linear(3000, num_class)\n",
    "        ###################################################\n",
    "    \n",
    "    # the size of input is [batch_size, seq_len(15), input_dim(75)]\n",
    "    # the size of logits is [batch_size, num_class]\n",
    "    def forward(self, input, h_t_1=None, c_t_1=None):\n",
    "        # the size of rnn_outputs is [batch_size, seq_len, rnn_size]\n",
    "        rnn_outputs, (hn, cn) = self.recurrent_layer(self.project_layer(input))\n",
    "        # classify the last step of rnn_outpus\n",
    "        # the size of logits is [batch_size, num_class]\n",
    "        rnn_outputs_reshape = rnn_outputs.view(100, -1)\n",
    "        #logits = self.classify_layer(rnn_outputs[:,-1])\n",
    "        logits = self.classify_layer(rnn_outputs_reshape)\n",
    "        return logits\n",
    "\n",
    "model = SequenceClassify()"
   ]
  },
  {
   "cell_type": "code",
   "execution_count": 0,
   "metadata": {
    "colab": {},
    "colab_type": "code",
    "id": "k9ifm8_n1h0o"
   },
   "outputs": [],
   "source": [
    "################ 2nd To Do  (5 points)##################\n",
    "#optimizer = torch.optim.SGD(model.parameters(), lr = 1e-4) Result - almost no change in accuracy results \n",
    "#optimizer = torch.optim.Adam(model.parameters(), lr=1e-4) \n",
    "#optimizer = torch.optim.Adam(model.parameters(), lr=1e-3) #Result - 40% at 75 epochs\n",
    "#optimizer = torch.optim.Adam(model.parameters(), lr=1e-2) Result - 38% at 75 epochs\n",
    "#torch.optim.Adadelta(model.parameters(), lr = 0.003) #Result - 42.75 at 50 epochs \n",
    "#optimizer = torch.optim.Adam(model.parameters(), lr=0.002)\n",
    "optimizer = torch.optim.Adam(model.parameters(), lr=0.003)\n",
    "criterion = nn.CrossEntropyLoss().type(FloatTensor)"
   ]
  },
  {
   "cell_type": "code",
   "execution_count": 11,
   "metadata": {
    "colab": {
     "base_uri": "https://localhost:8080/",
     "height": 1000
    },
    "colab_type": "code",
    "id": "q9bEqQxL1XiB",
    "outputId": "54cf4a4a-bee6-4049-e0e3-475da03f6130"
   },
   "outputs": [
    {
     "name": "stdout",
     "output_type": "stream",
     "text": [
      "train Epoch: 0  , Loss: 2.3376,  Accuracy: 10.80\n",
      "val Epoch: 0  , Loss: 2.2848,  Accuracy: 12.00\n",
      "train Epoch: 1  , Loss: 2.1903,  Accuracy: 18.00\n",
      "val Epoch: 1  , Loss: 1.9136,  Accuracy: 29.75\n",
      "train Epoch: 2  , Loss: 1.6919,  Accuracy: 38.25\n",
      "val Epoch: 2  , Loss: 1.3883,  Accuracy: 50.75\n",
      "train Epoch: 3  , Loss: 1.2816,  Accuracy: 53.80\n",
      "val Epoch: 3  , Loss: 1.0780,  Accuracy: 61.00\n",
      "train Epoch: 4  , Loss: 1.0722,  Accuracy: 63.10\n",
      "val Epoch: 4  , Loss: 1.0109,  Accuracy: 65.50\n",
      "train Epoch: 5  , Loss: 0.9870,  Accuracy: 66.30\n",
      "val Epoch: 5  , Loss: 0.9788,  Accuracy: 68.25\n",
      "train Epoch: 6  , Loss: 0.8707,  Accuracy: 69.15\n",
      "val Epoch: 6  , Loss: 0.8436,  Accuracy: 70.75\n",
      "train Epoch: 7  , Loss: 0.7825,  Accuracy: 71.90\n",
      "val Epoch: 7  , Loss: 0.8230,  Accuracy: 71.00\n",
      "train Epoch: 8  , Loss: 0.7647,  Accuracy: 73.05\n",
      "val Epoch: 8  , Loss: 0.7924,  Accuracy: 74.50\n",
      "train Epoch: 9  , Loss: 0.7078,  Accuracy: 75.65\n",
      "val Epoch: 9  , Loss: 0.7356,  Accuracy: 77.00\n",
      "train Epoch: 10  , Loss: 0.6222,  Accuracy: 78.70\n",
      "val Epoch: 10  , Loss: 0.7798,  Accuracy: 75.25\n",
      "train Epoch: 11  , Loss: 0.6441,  Accuracy: 77.55\n",
      "val Epoch: 11  , Loss: 0.7609,  Accuracy: 75.25\n",
      "train Epoch: 12  , Loss: 0.5741,  Accuracy: 79.90\n",
      "val Epoch: 12  , Loss: 0.7778,  Accuracy: 72.75\n",
      "train Epoch: 13  , Loss: 0.5518,  Accuracy: 80.50\n",
      "val Epoch: 13  , Loss: 0.7180,  Accuracy: 76.25\n",
      "train Epoch: 14  , Loss: 0.5602,  Accuracy: 80.20\n",
      "val Epoch: 14  , Loss: 0.8005,  Accuracy: 75.50\n",
      "train Epoch: 15  , Loss: 0.5031,  Accuracy: 82.30\n",
      "val Epoch: 15  , Loss: 0.7915,  Accuracy: 74.00\n",
      "train Epoch: 16  , Loss: 0.5272,  Accuracy: 80.50\n",
      "val Epoch: 16  , Loss: 0.8129,  Accuracy: 74.00\n",
      "train Epoch: 17  , Loss: 0.5151,  Accuracy: 81.25\n",
      "val Epoch: 17  , Loss: 0.7079,  Accuracy: 74.75\n",
      "train Epoch: 18  , Loss: 0.4669,  Accuracy: 83.65\n",
      "val Epoch: 18  , Loss: 0.8035,  Accuracy: 75.00\n",
      "train Epoch: 19  , Loss: 0.4907,  Accuracy: 82.55\n",
      "val Epoch: 19  , Loss: 0.7481,  Accuracy: 76.50\n",
      "train Epoch: 20  , Loss: 0.4432,  Accuracy: 84.80\n",
      "val Epoch: 20  , Loss: 0.7544,  Accuracy: 76.00\n",
      "train Epoch: 21  , Loss: 0.4220,  Accuracy: 84.95\n",
      "val Epoch: 21  , Loss: 0.6996,  Accuracy: 78.00\n",
      "train Epoch: 22  , Loss: 0.3816,  Accuracy: 86.60\n",
      "val Epoch: 22  , Loss: 0.7022,  Accuracy: 79.00\n",
      "train Epoch: 23  , Loss: 0.3320,  Accuracy: 88.60\n",
      "val Epoch: 23  , Loss: 0.8505,  Accuracy: 73.75\n",
      "train Epoch: 24  , Loss: 0.3226,  Accuracy: 88.30\n",
      "val Epoch: 24  , Loss: 0.7632,  Accuracy: 76.00\n",
      "train Epoch: 25  , Loss: 0.2958,  Accuracy: 89.85\n",
      "val Epoch: 25  , Loss: 0.9524,  Accuracy: 73.75\n",
      "train Epoch: 26  , Loss: 0.3191,  Accuracy: 88.10\n",
      "val Epoch: 26  , Loss: 0.8646,  Accuracy: 77.00\n",
      "train Epoch: 27  , Loss: 0.3620,  Accuracy: 87.20\n",
      "val Epoch: 27  , Loss: 0.8648,  Accuracy: 75.50\n",
      "train Epoch: 28  , Loss: 0.2949,  Accuracy: 89.00\n",
      "val Epoch: 28  , Loss: 0.8022,  Accuracy: 76.00\n",
      "train Epoch: 29  , Loss: 0.2180,  Accuracy: 93.15\n",
      "val Epoch: 29  , Loss: 0.8340,  Accuracy: 76.00\n",
      "train Epoch: 30  , Loss: 0.1977,  Accuracy: 93.75\n",
      "val Epoch: 30  , Loss: 0.8076,  Accuracy: 79.00\n",
      "train Epoch: 31  , Loss: 0.2007,  Accuracy: 93.05\n",
      "val Epoch: 31  , Loss: 0.8189,  Accuracy: 78.00\n",
      "train Epoch: 32  , Loss: 0.2023,  Accuracy: 92.80\n",
      "val Epoch: 32  , Loss: 0.8721,  Accuracy: 74.50\n",
      "train Epoch: 33  , Loss: 0.2446,  Accuracy: 91.40\n",
      "val Epoch: 33  , Loss: 0.8349,  Accuracy: 77.00\n",
      "train Epoch: 34  , Loss: 0.2109,  Accuracy: 92.75\n",
      "val Epoch: 34  , Loss: 0.9159,  Accuracy: 76.25\n",
      "train Epoch: 35  , Loss: 0.1623,  Accuracy: 94.80\n",
      "val Epoch: 35  , Loss: 0.9092,  Accuracy: 75.50\n",
      "train Epoch: 36  , Loss: 0.1267,  Accuracy: 96.70\n",
      "val Epoch: 36  , Loss: 0.8887,  Accuracy: 76.00\n",
      "train Epoch: 37  , Loss: 0.1552,  Accuracy: 95.15\n",
      "val Epoch: 37  , Loss: 0.9416,  Accuracy: 75.50\n",
      "train Epoch: 38  , Loss: 0.1389,  Accuracy: 94.95\n",
      "val Epoch: 38  , Loss: 0.9136,  Accuracy: 76.50\n",
      "train Epoch: 39  , Loss: 0.1395,  Accuracy: 95.15\n",
      "val Epoch: 39  , Loss: 1.0284,  Accuracy: 74.00\n",
      "train Epoch: 40  , Loss: 0.1190,  Accuracy: 96.30\n",
      "val Epoch: 40  , Loss: 0.9949,  Accuracy: 75.50\n",
      "train Epoch: 41  , Loss: 0.0948,  Accuracy: 97.40\n",
      "val Epoch: 41  , Loss: 0.8929,  Accuracy: 76.25\n",
      "train Epoch: 42  , Loss: 0.0850,  Accuracy: 97.30\n",
      "val Epoch: 42  , Loss: 1.0055,  Accuracy: 74.50\n",
      "train Epoch: 43  , Loss: 0.0840,  Accuracy: 97.65\n",
      "val Epoch: 43  , Loss: 1.0447,  Accuracy: 74.00\n",
      "train Epoch: 44  , Loss: 0.0635,  Accuracy: 98.20\n",
      "val Epoch: 44  , Loss: 0.9195,  Accuracy: 75.50\n",
      "train Epoch: 45  , Loss: 0.0539,  Accuracy: 98.85\n",
      "val Epoch: 45  , Loss: 0.9520,  Accuracy: 76.75\n",
      "train Epoch: 46  , Loss: 0.0549,  Accuracy: 98.75\n",
      "val Epoch: 46  , Loss: 0.9362,  Accuracy: 77.25\n",
      "train Epoch: 47  , Loss: 0.0637,  Accuracy: 98.10\n",
      "val Epoch: 47  , Loss: 1.0183,  Accuracy: 75.00\n",
      "train Epoch: 48  , Loss: 0.0466,  Accuracy: 99.05\n",
      "val Epoch: 48  , Loss: 0.9476,  Accuracy: 76.75\n",
      "train Epoch: 49  , Loss: 0.0538,  Accuracy: 98.45\n",
      "val Epoch: 49  , Loss: 1.0390,  Accuracy: 75.75\n",
      "train Epoch: 50  , Loss: 0.0470,  Accuracy: 98.90\n",
      "val Epoch: 50  , Loss: 1.0573,  Accuracy: 77.00\n",
      "train Epoch: 51  , Loss: 0.0355,  Accuracy: 99.30\n",
      "val Epoch: 51  , Loss: 1.0264,  Accuracy: 76.75\n",
      "train Epoch: 52  , Loss: 0.0357,  Accuracy: 99.15\n",
      "val Epoch: 52  , Loss: 1.1125,  Accuracy: 73.50\n",
      "train Epoch: 53  , Loss: 0.0463,  Accuracy: 98.85\n",
      "val Epoch: 53  , Loss: 1.1290,  Accuracy: 76.00\n",
      "train Epoch: 54  , Loss: 0.0358,  Accuracy: 99.15\n",
      "val Epoch: 54  , Loss: 1.0861,  Accuracy: 76.75\n",
      "train Epoch: 55  , Loss: 0.0229,  Accuracy: 99.65\n",
      "val Epoch: 55  , Loss: 1.0881,  Accuracy: 76.50\n",
      "train Epoch: 56  , Loss: 0.0209,  Accuracy: 99.60\n",
      "val Epoch: 56  , Loss: 1.1014,  Accuracy: 74.75\n",
      "train Epoch: 57  , Loss: 0.0209,  Accuracy: 99.50\n",
      "val Epoch: 57  , Loss: 1.1113,  Accuracy: 77.00\n",
      "train Epoch: 58  , Loss: 0.0149,  Accuracy: 99.85\n",
      "val Epoch: 58  , Loss: 1.0855,  Accuracy: 78.00\n",
      "train Epoch: 59  , Loss: 0.0118,  Accuracy: 99.85\n",
      "val Epoch: 59  , Loss: 1.1087,  Accuracy: 76.25\n",
      "train Epoch: 60  , Loss: 0.0136,  Accuracy: 99.70\n",
      "val Epoch: 60  , Loss: 1.0902,  Accuracy: 77.00\n",
      "train Epoch: 61  , Loss: 0.0102,  Accuracy: 99.95\n",
      "val Epoch: 61  , Loss: 1.1495,  Accuracy: 76.75\n",
      "train Epoch: 62  , Loss: 0.0101,  Accuracy: 99.95\n",
      "val Epoch: 62  , Loss: 1.1494,  Accuracy: 76.25\n",
      "train Epoch: 63  , Loss: 0.0405,  Accuracy: 98.85\n",
      "val Epoch: 63  , Loss: 1.1943,  Accuracy: 77.00\n",
      "train Epoch: 64  , Loss: 0.0453,  Accuracy: 98.40\n",
      "val Epoch: 64  , Loss: 1.0914,  Accuracy: 76.75\n",
      "train Epoch: 65  , Loss: 0.1184,  Accuracy: 96.60\n",
      "val Epoch: 65  , Loss: 1.4569,  Accuracy: 72.50\n",
      "train Epoch: 66  , Loss: 0.2772,  Accuracy: 91.40\n",
      "val Epoch: 66  , Loss: 1.1645,  Accuracy: 71.00\n",
      "train Epoch: 67  , Loss: 0.2494,  Accuracy: 91.95\n",
      "val Epoch: 67  , Loss: 1.3280,  Accuracy: 72.00\n",
      "train Epoch: 68  , Loss: 0.1781,  Accuracy: 93.80\n",
      "val Epoch: 68  , Loss: 1.2549,  Accuracy: 72.75\n",
      "train Epoch: 69  , Loss: 0.1063,  Accuracy: 96.50\n",
      "val Epoch: 69  , Loss: 1.1639,  Accuracy: 74.50\n",
      "train Epoch: 70  , Loss: 0.0713,  Accuracy: 97.85\n",
      "val Epoch: 70  , Loss: 1.1934,  Accuracy: 73.25\n",
      "train Epoch: 71  , Loss: 0.0465,  Accuracy: 98.75\n",
      "val Epoch: 71  , Loss: 1.1936,  Accuracy: 74.75\n",
      "train Epoch: 72  , Loss: 0.0375,  Accuracy: 98.95\n",
      "val Epoch: 72  , Loss: 1.1378,  Accuracy: 74.75\n",
      "train Epoch: 73  , Loss: 0.0247,  Accuracy: 99.65\n",
      "val Epoch: 73  , Loss: 1.1877,  Accuracy: 75.50\n",
      "train Epoch: 74  , Loss: 0.0210,  Accuracy: 99.70\n",
      "val Epoch: 74  , Loss: 1.2295,  Accuracy: 73.75\n"
     ]
    }
   ],
   "source": [
    "num_epochs = 75\n",
    "evaluate_every_epoch = 1\n",
    "for e in range(num_epochs):\n",
    "    run_epoch(trLD, model, criterion, e, True, optimizer)\n",
    "    if e % evaluate_every_epoch == 0:\n",
    "        run_epoch(valLD, model, criterion, e, False, None)  "
   ]
  },
  {
   "cell_type": "markdown",
   "metadata": {
    "colab_type": "text",
    "id": "r_hqe-krzGod"
   },
   "source": [
    "## Submit your results \n",
    "\n",
    "### Train a better model for action recognition!\n",
    "Now it's your job to experiment with architectures, hyperparameters, loss functions, and optimizers to train a model that achieves better accuracy on the action recognition validation set. \n",
    "\n",
    "\n",
    "### Testing the model and reporting the results\n",
    "Test the model on the testing set and save the results as a .csv file. \n",
    "submit the results.csv file generated by predict_on_test(). Also mention the best performance on the Validation set, and submit the corresponding results csv file which results in the best performance. \n",
    "################ 3rd To Do  (15 points) ###############\n"
   ]
  },
  {
   "cell_type": "code",
   "execution_count": 26,
   "metadata": {
    "colab": {
     "base_uri": "https://localhost:8080/",
     "height": 36
    },
    "colab_type": "code",
    "id": "n87MwbsGzGoe",
    "outputId": "19bc7e33-6a0b-422c-8163-2e7e70cfcc7a"
   },
   "outputs": [
    {
     "name": "stdout",
     "output_type": "stream",
     "text": [
      "500\n"
     ]
    }
   ],
   "source": [
    "# Use your best model to generate results on test set and validation set.\n",
    "\n",
    "# generate csv file for test set\n",
    "def predict_on_test(model, data_loader):\n",
    "    model.eval() # Put the model in test mode (the opposite of model.train(), essentially)\n",
    "    results=open('results.csv','w')\n",
    "    count=0\n",
    "    results.write('Id'+','+'Class'+'\\n')\n",
    "    for batch_idx, sample in enumerate(data_loader):\n",
    "        sequence = sample['seq']\n",
    "        input_sequence_var = Variable(sequence).type(FloatTensor)\n",
    "        scores = model(input_sequence_var)\n",
    "        _, preds = scores.data.max(1)\n",
    "        for i in range(len(preds)):\n",
    "            results.write(str(count)+','+str(preds[i].item())+'\\n')\n",
    "            count+=1\n",
    "    results.close()\n",
    "    return count\n",
    "\n",
    "count=predict_on_test(model, tstLD)\n",
    "print(count)"
   ]
  },
  {
   "cell_type": "code",
   "execution_count": 0,
   "metadata": {
    "colab": {},
    "colab_type": "code",
    "id": "MiuGWxsHiPau"
   },
   "outputs": [],
   "source": [
    "import matplotlib.pyplot as plt\n",
    "%matplotlib inline\n",
    "epochs = []\n",
    "for i in range(1, 77):\n",
    "    epochs.append(i)"
   ]
  },
  {
   "cell_type": "code",
   "execution_count": 25,
   "metadata": {
    "colab": {
     "base_uri": "https://localhost:8080/",
     "height": 573
    },
    "colab_type": "code",
    "id": "x-Y3mB1fhUqb",
    "outputId": "50171a8b-8a1d-41f3-ad13-e420858b682f"
   },
   "outputs": [
    {
     "data": {
      "image/png": "[encoded data removed]",
      "text/plain": [
       "<Figure size 432x288 with 1 Axes>"
      ]
     },
     "metadata": {
      "tags": []
     },
     "output_type": "display_data"
    },
    {
     "data": {
      "image/png": "[encoded data removed]",
      "text/plain": [
       "<Figure size 432x288 with 1 Axes>"
      ]
     },
     "metadata": {
      "tags": []
     },
     "output_type": "display_data"
    }
   ],
   "source": [
    "plot1 = plt.plot(epochs, accuracy_training)\n",
    "plot2 = plt.plot(epochs, accuracy_validation)\n",
    "plt.xlabel(\"Epochs\")\n",
    "plt.ylabel(\"Accuracy\")\n",
    "plt.title(\"Accuracy as a function of the epochs(Total 75 epochs)\")\n",
    "plt.legend([\"Training Accuracy\", \"Validation Accuracy\"], loc = 1)\n",
    "plt.show()\n",
    "\n",
    "\n",
    "plot3 = plt.plot(epochs, loss_training)\n",
    "plot4 = plt.plot(epochs, loss_validation)\n",
    "plt.xlabel(\"Epochs\")\n",
    "plt.ylabel(\"Loss\")\n",
    "plt.title(\"Loss as a function of the epochs(Total 75 epochs)\")\n",
    "plt.legend([\"Training Loss\", \"Validation Loss\"], loc = 1)\n",
    "plt.show()"
   ]
  },
  {
   "cell_type": "markdown",
   "metadata": {
    "colab_type": "text",
    "id": "yJua9UOMzGoi"
   },
   "source": [
    "## Report the performance\n",
    "################ 4th To Do  (5 points)##################\n",
    "\n",
    "In this cell, you should write an explanation of what you did (network architecture, optimiziter, learning rate, epoches) and any visualizations or graphs that you make in the process of training and evaluating your network.\n",
    "\n"
   ]
  },
  {
   "cell_type": "markdown",
   "metadata": {
    "colab_type": "text",
    "id": "RsPkGp53zGoi"
   },
   "source": [
    "## I made the following updates to the setup:\n",
    "\n",
    "\n",
    "\n",
    "*   Increased the Batch size to 100 items: I observed that the processing was slower with a batch size of 50(default value)\n",
    "*   Removed all cuda elements, this exercise was done without GPU support. \n",
    "* For the model, I used a bidirectional LSTM with 2 layers and the size of the hidden layer as 100. I had experimented with different parameters for layer sizes and number of layers and found that this performed the best.\n",
    "* For the classify layers I changed the the number of input classes and then used view() to reshape this layer. This resulted in a faster reduction in loss values in my experience. \n",
    "* I used the Adam Optimiser function with a learning rate of 0.003. I experimented with different values(Refer the cell for optimiser definition) and found these parameters to produce the best results \n",
    "* I ran the setup for 75 epochs.\n",
    "\n",
    "**Observations and final results**: \n",
    "At Epoch 30, the maximum validation accuracy percentage was attained at 79%\n",
    "Maximum training data accuracy was attained at epoch 62 @ 99.95% \n",
    "\n",
    "The same can be referred from the Loss v/s Epoch and Accuracy v/s Epoch plots in the cell above.\n",
    "\n"
   ]
  }
 ],
 "metadata": {
  "colab": {
   "collapsed_sections": [],
   "name": "RNN_ActionClassify.ipynb",
   "provenance": [],
   "toc_visible": true
  },
  "kernelspec": {
   "display_name": "Python 2",
   "name": "python2"
  }
 },
 "nbformat": 4,
 "nbformat_minor": 1
}
